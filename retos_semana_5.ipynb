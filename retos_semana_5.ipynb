{
  "nbformat": 4,
  "nbformat_minor": 0,
  "metadata": {
    "kernelspec": {
      "display_name": "Python 3",
      "language": "python",
      "name": "python3"
    },
    "language_info": {
      "codemirror_mode": {
        "name": "ipython",
        "version": 3
      },
      "file_extension": ".py",
      "mimetype": "text/x-python",
      "name": "python",
      "nbconvert_exporter": "python",
      "pygments_lexer": "ipython3",
      "version": "3.7.6"
    },
    "colab": {
      "name": "retos_semana_5.ipynb",
      "provenance": [],
      "toc_visible": true
    }
  },
  "cells": [
    {
      "cell_type": "markdown",
      "metadata": {
        "id": "zQ-l1cl4KONz"
      },
      "source": [
        "## RETO SEMANA 5 \n",
        "\n",
        "Llegó la hora de implementar! Transportes del Norte te ha contactado para desarrollar una interfaz para su Departamento de Logística. Es esta unidad de negocio la encargada de toda la interacción con los clientes de Transporte del Norte. Es aquí donde se registran y se dan de baja clientes, se asignan camiones a cada cliente, se programan sus despachos periódicamente, y se llevan indicadores de desempeño, tanto para Transportes del Norte, como para cada uno de sus clientes.\n",
        "\n",
        "Como sabes, el nuevo desarrollo está orientado a operadores del Departamento de Logística de Transportes del Norte. Tu desarrollo trabajará a partir de dos archivos que son el insumo para poder calcular los parámetros de desempeño. Por tanto, debe:\n",
        "\n",
        "1. Leer desde el archivo “C1-S5 Valores Asignados.csv” los siguientes campos, correspondientes a la programación asignada por Transportes del Norte:\n",
        " * Nombre del cliente de Transporte del Norte \n",
        " * Punto de Distribución \n",
        " * ID del Camión \n",
        " * Carga a entregar \n",
        " * Tiempo de despacho (minutos)\n",
        "\n",
        "\n",
        "2. Leer desde el archivo “C1-S5 Valores Registrados.csv” los siguientes campos, correspondientes a la operación registrada por los conductores de Transportes del Norte:\n",
        " * Nombre del cliente de Transporte del Norte \n",
        " * Punto de Distribución \n",
        " * ID del Camión \n",
        " * Carga a entregada \n",
        " * Tiempo de despacho (minutos) \n",
        "\n",
        "Debes desarrollar una interfaz de consola que permita mostrar los indicadores de desempeño de cada vehículo, para cada cliente, permitiendo:\n",
        "\n",
        "1. Escoger entre cada uno de sus dos principales clientes (Lactocaribe y Frigoaves)\n",
        "2. Seleccionar el vehículo al que se le calcularán los indicadores de desempeño\n",
        "3. Desplegar los siguientes indicadores de desempeño para cada vehículo:\n",
        " * Eficiencia en tiempos de despacho = (Tiempo total de despacho asignado - Tiempo total de despacho registrado) / Tiempo de total despacho asignado x 100 \n",
        " * Tasa de entrega (Lt/min) = Cantidad total de litros despachados / Tiempo total de despacho \n",
        " * Nivel de Cumplimiento de los dchos = Total de Litros despachados / Total de litros asignados x 100 \n",
        " * Porcentaje de entregas a tiempo = No. de entregas a tiempo / No. Total de entregas realizadas \n",
        "4. Registrar (escribir) en un archivo CSV un informe con los 4 indicadores de desempeño anteriores, para cada camión y para cada cliente.\n",
        "\n",
        "### EJEMPLO\n",
        "\n",
        "1. Leer en tu codigo el archivo 'C1-S5 Valores Asignados.csv' y el archivo 'C1-S5 Valores Registrados.csv'\n",
        "       La ubicación de estos se pasaran como parametro de entrada a la función control como puedes observar en el celda de    desarrollo. En ese orden.\n",
        "\n",
        "2. La función de control tiene dos inputs en el siguiente orden:\n",
        "\n",
        "    def control(asignacionfile, registrosfile) :\n",
        "                cliente = input()  # Donde 1 corresponde a Lactocaribe y 2 a Frigogaves\n",
        "                Camion = input()   # ID del camión de los cuales se van a obetner los indicadores de desempeño\n",
        "\n",
        "\n",
        "3. La estructura de salida esperada para el caso donde se escoge el cliente 1 (Lactocaribe) y el Id del camión # 2, es la siguiente :\n",
        "\n",
        "    Eficiencia en tiempo de Despacho = -11.8 %\n",
        "\n",
        "    Tasa de entrega = 25.6\n",
        "\n",
        "    Nivel de cumplimiento = 90.0 %\n",
        "\n",
        "    Entregas a tiempo = 33.3 %\n",
        "\n"
      ]
    },
    {
      "cell_type": "code",
      "metadata": {
        "id": "M9_CgKrhKON1",
        "outputId": "f440eeef-6d70-414a-e173-77177193532b",
        "colab": {
          "base_uri": "https://localhost:8080/",
          "height": 136
        }
      },
      "source": [
        "import csv\n",
        "def matrices(lectora,lectorr,camion,cliente):\n",
        "  mcamion=[]\n",
        "  mcamionr=[]\n",
        "\n",
        "  for fila in lectora: \n",
        "    for i in range(len(fila)):\n",
        "      if cliente==\"1\" and fila[i]==\"Lactocaribe\":\n",
        "        if fila[2]==camion:\n",
        "          mcamion.append(fila)\n",
        "      elif cliente==\"2\" and fila[i]==\"Frigoaves\":\n",
        "        if fila[2]==camion:\n",
        "          mcamion.append(fila)\n",
        "\n",
        "  for fila in lectorr: \n",
        "    for i in range(len(fila)):\n",
        "      if cliente==\"1\" and fila[i]==\"Lactocaribe\":\n",
        "        if fila[2]==camion:\n",
        "          mcamionr.append(fila)\n",
        "      elif cliente==\"2\" and fila[i]==\"Frigoaves\":\n",
        "        if fila[2]==camion:\n",
        "          mcamionr.append(fila)\n",
        "  return (mcamionr,mcamion)\n",
        "\n",
        "def calculos(mcamion,mcamionr):\n",
        "  ER=0\n",
        "  ET=0\n",
        "  TTA=0\n",
        "  TTR=0\n",
        "  TLA=0\n",
        "  TLR=0\n",
        "  for i in range(len(mcamion)):\n",
        "    ER=ER+1\n",
        "    for j in range(len(mcamion[i])):\n",
        "      if j==4:\n",
        "        TTA=TTA+int(mcamion[i][j])\n",
        "        TTR=TTR+int(mcamionr[i][j])\n",
        "        if mcamionr[i][j]<=mcamion[i][j]:\n",
        "          ET=ET+1\n",
        "      if j==3:\n",
        "        TLA=TLA+int(mcamion[i][j])\n",
        "        TLR=TLR+int(mcamionr[i][j])\n",
        "\n",
        "  E=round((TTA-TTR)/TTA*100,1)\n",
        "  TE=round(TLR/TTR,1)\n",
        "  C=round(TLR/TLA*100,1)\n",
        "  ET=round(ET/ER*100,1)\n",
        "  X=[E,TE,C,ET]\n",
        "  return X\n",
        "\n",
        "def control(asignacionfile,registrofile):\n",
        "  asignacion=open(asignacionfile, mode='r', encoding='utf-8-sig' ) \n",
        "  registro=open(registrofile, mode='r', encoding='utf-8-sig' ) \n",
        " \n",
        "  lectorr = csv.reader(registro) \n",
        "  lectora = csv.reader(asignacion)\n",
        "  print(\"Ingrese digito de empresa:\")\n",
        "  cliente=input(\"(1) Lactocaribe, (2) Frigoaves\")\n",
        "  camion=input(\"ID de Camion: \")\n",
        "\n",
        "  mcamionr,mcamion=matrices(lectora,lectorr,camion,cliente)\n",
        "  X=calculos(mcamion,mcamionr)\n",
        "  \n",
        "\n",
        "  print(f\"Eficiencia en tiempo de Despacho = {X[0]}%\")\n",
        "  print(f\"Tasa de entrega = {X[1]}\")\n",
        "  print(f\"Nivel de cumplimiento = {X[2]}%\")\n",
        "  print(f\"Entregas a tiempo = {X[3]}%\")\n",
        "  \n",
        "  nuevoArchivo = open('archivoResultado.csv', mode='w', encoding='utf-8-sig' )   \n",
        "  escritor = csv.writer(nuevoArchivo) \n",
        "  escritor.writerow(X)\n",
        "\n",
        "#No modifiques esta parte!\n",
        "#La función control recibe dos parametros de entrada control(matrizasig, matrizregis)\n",
        "if __name__ == \"__main__\":\n",
        "    control('C1-S5 Valores Asignados.csv','C1-S5 Valores Registrados.csv')"
      ],
      "execution_count": 8,
      "outputs": [
        {
          "output_type": "stream",
          "text": [
            "Ingrese digito de empresa:\n",
            "(1) Lactocaribe, (2) Frigoaves2\n",
            "ID de Camion: 3\n",
            "Eficiencia en tiempo de Despacho = 0.0%\n",
            "Tasa de entrega = 7.0\n",
            "Nivel de cumplimiento = 93.1%\n",
            "Entregas a tiempo = 50.0%\n"
          ],
          "name": "stdout"
        }
      ]
    },
    {
      "cell_type": "code",
      "metadata": {
        "id": "acqxzbNzKOOA"
      },
      "source": [
        ""
      ],
      "execution_count": null,
      "outputs": []
    }
  ]
}